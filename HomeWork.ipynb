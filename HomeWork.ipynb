{
 "cells": [
  {
   "cell_type": "code",
   "execution_count": 2,
   "id": "1ba1bffc",
   "metadata": {},
   "outputs": [],
   "source": [
    "import numpy as np"
   ]
  },
  {
   "cell_type": "code",
   "execution_count": 17,
   "id": "c54b9b5f",
   "metadata": {},
   "outputs": [
    {
     "data": {
      "text/plain": [
       "array([[ 9,  4, 15,  0, 17],\n",
       "       [16, 17,  8,  9,  0],\n",
       "       [10,  8,  4, 19, 16],\n",
       "       [ 4, 15, 11, 11,  1],\n",
       "       [ 8,  4, 14, 17, 19],\n",
       "       [13,  5, 13, 19, 13],\n",
       "       [12,  1,  4, 18, 13],\n",
       "       [11, 10,  9, 15, 18],\n",
       "       [16,  7, 11, 17, 14],\n",
       "       [ 7, 11,  1,  0, 12]])"
      ]
     },
     "execution_count": 17,
     "metadata": {},
     "output_type": "execute_result"
    }
   ],
   "source": [
    "np.random.seed(10)\n",
    "\n",
    "people = np.random.randint(0, 20, (10, 5))\n",
    "people"
   ]
  },
  {
   "cell_type": "code",
   "execution_count": 18,
   "id": "d06c0a0e",
   "metadata": {},
   "outputs": [],
   "source": [
    "def norm(vect):\n",
    "    v = vect**2\n",
    "    n = np.sqrt(np.sum(v, axis=1))\n",
    "    return n"
   ]
  },
  {
   "cell_type": "code",
   "execution_count": 21,
   "id": "a5ff73fc",
   "metadata": {},
   "outputs": [
    {
     "data": {
      "text/plain": [
       "array([24.71841419, 26.26785107, 28.23118843, 22.        , 30.43024811,\n",
       "       29.88310559, 25.57342371, 29.17190429, 30.18277655, 17.74823935])"
      ]
     },
     "execution_count": 21,
     "metadata": {},
     "output_type": "execute_result"
    }
   ],
   "source": [
    "norm(people)"
   ]
  },
  {
   "cell_type": "code",
   "execution_count": 25,
   "id": "627148f8",
   "metadata": {},
   "outputs": [
    {
     "data": {
      "text/plain": [
       "array([[0.36410103, 0.16182268, 0.60683505, 0.        , 0.68774638],\n",
       "       [0.60910959, 0.64717894, 0.3045548 , 0.34262414, 0.        ],\n",
       "       [0.35421817, 0.28337454, 0.14168727, 0.67301453, 0.56674908],\n",
       "       [0.18181818, 0.68181818, 0.5       , 0.5       , 0.04545455],\n",
       "       [0.26289631, 0.13144816, 0.46006855, 0.55865466, 0.62437874],\n",
       "       [0.43502841, 0.16731862, 0.43502841, 0.63581076, 0.43502841],\n",
       "       [0.46923713, 0.03910309, 0.15641238, 0.7038557 , 0.50834023],\n",
       "       [0.37707514, 0.34279559, 0.30851603, 0.51419338, 0.61703205],\n",
       "       [0.53010365, 0.23192035, 0.36444626, 0.56323513, 0.46384069],\n",
       "       [0.39440532, 0.61977979, 0.05634362, 0.        , 0.6761234 ]])"
      ]
     },
     "execution_count": 25,
     "metadata": {},
     "output_type": "execute_result"
    }
   ],
   "source": [
    "people = people/norm(people).reshape(-1,1)\n",
    "people"
   ]
  },
  {
   "cell_type": "code",
   "execution_count": 28,
   "id": "640a2cee",
   "metadata": {},
   "outputs": [
    {
     "name": "stdout",
     "output_type": "stream",
     "text": [
      "Similarity of person_0 with person_1: 0.5113201800958094\n",
      "Similarity of person_0 with person_2: 0.6505880576981725\n",
      "Similarity of person_0 with person_3: 0.5112125535214552\n",
      "Similarity of person_0 with person_4: 0.825592048915385\n",
      "Similarity of person_0 with person_5: 0.7486499445225642\n",
      "Similarity of person_0 with person_6: 0.6217031546765086\n",
      "Similarity of person_0 with person_7: 0.8043454480464606\n",
      "Similarity of person_0 with person_8: 0.7707047774143704\n",
      "Similarity of person_0 with person_9: 0.7430905152709472\n",
      "\n",
      "Similarity of person_1 with person_0: 0.5113201800958094\n",
      "Similarity of person_1 with person_2: 0.6728942846462607\n",
      "Similarity of person_1 with person_3: 0.875595035770913\n",
      "Similarity of person_1 with person_4: 0.5767278006312073\n",
      "Similarity of person_1 with person_5: 0.7235991714410254\n",
      "Similarity of person_1 with person_6: 0.5999176323672597\n",
      "Similarity of person_1 with person_7: 0.7216652707147353\n",
      "Similarity of person_1 with person_8: 0.7769569901397098\n",
      "Similarity of person_1 with person_9: 0.6585042059698353\n",
      "\n",
      "Similarity of person_2 with person_0: 0.6505880576981725\n",
      "Similarity of person_2 with person_1: 0.6728942846462607\n",
      "Similarity of person_2 with person_3: 0.6907254383014192\n",
      "Similarity of person_2 with person_4: 0.9254063486779252\n",
      "Similarity of person_2 with person_5: 0.9376086241723027\n",
      "Similarity of person_2 with person_6: 0.9612612500988305\n",
      "Similarity of person_2 with person_7: 0.9701811639977357\n",
      "Similarity of person_2 with person_8: 0.9470767726525375\n",
      "Similarity of person_2 with person_9: 0.706510831564106\n",
      "\n",
      "Similarity of person_3 with person_0: 0.5112125535214552\n",
      "Similarity of person_3 with person_1: 0.875595035770913\n",
      "Similarity of person_3 with person_2: 0.6907254383014192\n",
      "Similarity of person_3 with person_4: 0.6751655284435233\n",
      "Similarity of person_3 with person_5: 0.7483705564860121\n",
      "Similarity of person_3 with person_6: 0.5652174546996284\n",
      "Similarity of person_3 with person_7: 0.7416849932066931\n",
      "Similarity of person_3 with person_8: 0.739434352054506\n",
      "Similarity of person_3 with person_9: 0.5531918758223019\n",
      "\n",
      "Similarity of person_4 with person_0: 0.825592048915385\n",
      "Similarity of person_4 with person_1: 0.5767278006312073\n",
      "Similarity of person_4 with person_2: 0.9254063486779252\n",
      "Similarity of person_4 with person_3: 0.6751655284435233\n",
      "Similarity of person_4 with person_5: 0.96332511586418\n",
      "Similarity of person_4 with person_6: 0.9110702546584006\n",
      "Similarity of person_4 with person_7: 0.9586482563910714\n",
      "Similarity of person_4 with person_8: 0.9417842552618859\n",
      "Similarity of person_4 with person_9: 0.6332356193262205\n",
      "\n",
      "Similarity of person_5 with person_0: 0.7486499445225642\n",
      "Similarity of person_5 with person_1: 0.7235991714410254\n",
      "Similarity of person_5 with person_2: 0.9376086241723027\n",
      "Similarity of person_5 with person_3: 0.7483705564860121\n",
      "Similarity of person_5 with person_4: 0.96332511586418\n",
      "Similarity of person_5 with person_6: 0.9473794555802928\n",
      "Similarity of person_5 with person_7: 0.9509638787076017\n",
      "Similarity of person_5 with person_8: 0.9878540531818615\n",
      "Similarity of person_5 with person_9: 0.5939221843223532\n",
      "\n",
      "Similarity of person_6 with person_0: 0.6217031546765086\n",
      "Similarity of person_6 with person_1: 0.5999176323672597\n",
      "Similarity of person_6 with person_2: 0.9612612500988305\n",
      "Similarity of person_6 with person_3: 0.5652174546996284\n",
      "Similarity of person_6 with person_4: 0.9110702546584006\n",
      "Similarity of person_6 with person_5: 0.9473794555802928\n",
      "Similarity of person_6 with person_7: 0.9141779048873722\n",
      "Similarity of person_6 with person_8: 0.9470421625028895\n",
      "Similarity of person_6 with person_9: 0.5618184915743518\n",
      "\n",
      "Similarity of person_7 with person_0: 0.8043454480464606\n",
      "Similarity of person_7 with person_1: 0.7216652707147353\n",
      "Similarity of person_7 with person_2: 0.9701811639977357\n",
      "Similarity of person_7 with person_3: 0.7416849932066931\n",
      "Similarity of person_7 with person_4: 0.9586482563910714\n",
      "Similarity of person_7 with person_5: 0.9509638787076017\n",
      "Similarity of person_7 with person_6: 0.9141779048873722\n",
      "Similarity of person_7 with person_8: 0.9676440405023912\n",
      "Similarity of person_7 with person_9: 0.7957509377680214\n",
      "\n",
      "Similarity of person_8 with person_0: 0.7707047774143704\n",
      "Similarity of person_8 with person_1: 0.7769569901397098\n",
      "Similarity of person_8 with person_2: 0.9470767726525375\n",
      "Similarity of person_8 with person_3: 0.739434352054506\n",
      "Similarity of person_8 with person_4: 0.9417842552618859\n",
      "Similarity of person_8 with person_5: 0.9878540531818615\n",
      "Similarity of person_8 with person_6: 0.9470421625028895\n",
      "Similarity of person_8 with person_7: 0.9676440405023912\n",
      "Similarity of person_8 with person_9: 0.6869630107764455\n",
      "\n",
      "Similarity of person_9 with person_0: 0.7430905152709472\n",
      "Similarity of person_9 with person_1: 0.6585042059698353\n",
      "Similarity of person_9 with person_2: 0.706510831564106\n",
      "Similarity of person_9 with person_3: 0.5531918758223019\n",
      "Similarity of person_9 with person_4: 0.6332356193262205\n",
      "Similarity of person_9 with person_5: 0.5939221843223532\n",
      "Similarity of person_9 with person_6: 0.5618184915743518\n",
      "Similarity of person_9 with person_7: 0.7957509377680214\n",
      "Similarity of person_9 with person_8: 0.6869630107764455\n",
      "\n"
     ]
    }
   ],
   "source": [
    "for i in range(len(people)):\n",
    "    for j in range(len(people)):\n",
    "        if i != j:\n",
    "            print(f\"Similarity of person_{i} with person_{j}: {np.dot(people[i], people[j])}\")\n",
    "    print('')"
   ]
  },
  {
   "cell_type": "code",
   "execution_count": null,
   "id": "d4c1cff6",
   "metadata": {},
   "outputs": [],
   "source": []
  }
 ],
 "metadata": {
  "kernelspec": {
   "display_name": "ml",
   "language": "python",
   "name": "python3"
  },
  "language_info": {
   "codemirror_mode": {
    "name": "ipython",
    "version": 3
   },
   "file_extension": ".py",
   "mimetype": "text/x-python",
   "name": "python",
   "nbconvert_exporter": "python",
   "pygments_lexer": "ipython3",
   "version": "3.12.0"
  }
 },
 "nbformat": 4,
 "nbformat_minor": 5
}
