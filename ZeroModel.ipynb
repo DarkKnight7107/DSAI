{
 "cells": [
  {
   "cell_type": "code",
   "execution_count": null,
   "metadata": {},
   "outputs": [],
   "source": [
    "class ZeroModel:\n",
    "    def __init__(self):\n",
    "        self.m = 0\n",
    "        self.c = 0\n",
    "\n",
    "    def fit(self, coords):\n",
    "        x1 = coords[0][0]\n",
    "        y1 = coords[0][1]\n",
    "        x2 = coords[1][0]\n",
    "        y2 = coords[1][1]\n",
    "\n",
    "        self.m = (y2 - y1)/(x2 - x1)\n",
    "        self.c = (y1*x2 - y2*x1)/(x2 - x1)\n",
    "\n",
    "    def predict(self, x):\n",
    "        return (self.m*x + self.c)\n",
    "\n",
    "    def __repr__(self):\n",
    "        return f\"m --> {self.m}, c --> {self.c}\""
   ]
  },
  {
   "cell_type": "markdown",
   "metadata": {},
   "source": [
    "y1x2 = m x1x2 + cx2\n",
    "\n",
    "y2x1 = m x2x1 + cx1\n",
    "\n",
    "y1x2 - y2x1 = c(x2 - x1)\n",
    "\n",
    "c = (y1x2 - y2x1)/(x2 - x1)"
   ]
  },
  {
   "cell_type": "code",
   "execution_count": 4,
   "metadata": {},
   "outputs": [],
   "source": [
    "z = ZeroModel()\n",
    "\n",
    "z.fit([[1,1],[3,4]])\n"
   ]
  },
  {
   "cell_type": "code",
   "execution_count": 5,
   "metadata": {},
   "outputs": [
    {
     "data": {
      "text/plain": [
       "m --> 1.5, c --> -0.5"
      ]
     },
     "execution_count": 5,
     "metadata": {},
     "output_type": "execute_result"
    }
   ],
   "source": [
    "z"
   ]
  },
  {
   "cell_type": "code",
   "execution_count": null,
   "metadata": {},
   "outputs": [],
   "source": []
  }
 ],
 "metadata": {
  "kernelspec": {
   "display_name": "ml",
   "language": "python",
   "name": "python3"
  },
  "language_info": {
   "codemirror_mode": {
    "name": "ipython",
    "version": 3
   },
   "file_extension": ".py",
   "mimetype": "text/x-python",
   "name": "python",
   "nbconvert_exporter": "python",
   "pygments_lexer": "ipython3",
   "version": "3.12.0"
  }
 },
 "nbformat": 4,
 "nbformat_minor": 2
}
