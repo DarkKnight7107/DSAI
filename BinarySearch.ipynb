{
 "cells": [
  {
   "cell_type": "code",
   "execution_count": 43,
   "metadata": {},
   "outputs": [],
   "source": [
    "n = 0.5"
   ]
  },
  {
   "cell_type": "code",
   "execution_count": 44,
   "metadata": {},
   "outputs": [],
   "source": [
    "def pos(n):\n",
    "    if n < 0:\n",
    "        return n*-1\n",
    "    else:\n",
    "        return n"
   ]
  },
  {
   "cell_type": "code",
   "execution_count": 45,
   "metadata": {},
   "outputs": [],
   "source": [
    "def findSqrt(num):\n",
    "    if num > 1:\n",
    "        l = 1\n",
    "        r = num\n",
    "    elif num < 1:\n",
    "        l = 0\n",
    "        r = 1\n",
    "    elif num == 1:\n",
    "        return 1\n",
    "\n",
    "    guess = (l+r)/2\n",
    "\n",
    "    while pos(guess**2 - num) > 0.000000001:\n",
    "        if guess**2 > num:\n",
    "            r = guess\n",
    "            guess = (l+r)/2\n",
    "        elif guess**2 < num:\n",
    "            l = guess\n",
    "            guess = (l+r)/2\n",
    "    \n",
    "    return guess"
   ]
  },
  {
   "cell_type": "code",
   "execution_count": 46,
   "metadata": {},
   "outputs": [
    {
     "name": "stdout",
     "output_type": "stream",
     "text": [
      "0.7071067811921239\n"
     ]
    }
   ],
   "source": [
    "print(findSqrt(n))"
   ]
  },
  {
   "cell_type": "code",
   "execution_count": 47,
   "metadata": {},
   "outputs": [],
   "source": [
    "# import random\n",
    "# arr = []\n",
    "# for i in range(0, 10):\n",
    "#     arr.append(random.randint(0,50))\n",
    "# arr.sort()"
   ]
  },
  {
   "cell_type": "code",
   "execution_count": 74,
   "metadata": {},
   "outputs": [],
   "source": [
    "arr = []"
   ]
  },
  {
   "cell_type": "code",
   "execution_count": 77,
   "metadata": {},
   "outputs": [],
   "source": [
    "def BinarySearch(array, n):\n",
    "\n",
    "    if len(array) == 0:\n",
    "        return -1\n",
    "    l = 0\n",
    "    r = len(array)-1\n",
    "\n",
    "    guess = (l+r)//2\n",
    "\n",
    "    while True:\n",
    "        print(f\"Guess:{guess}, l:{l}, r:{r}\")\n",
    "        if array[guess] == n:\n",
    "            return guess\n",
    "        if l >= r:\n",
    "            break\n",
    "        elif array[guess] < n:\n",
    "            l = guess + 1\n",
    "            guess = (l+r)//2\n",
    "        elif array[guess] > n:\n",
    "            r = guess - 1\n",
    "            guess = (l+r)//2\n",
    "        \n",
    "    \n",
    "    return -1\n",
    "    \n"
   ]
  },
  {
   "cell_type": "code",
   "execution_count": 78,
   "metadata": {},
   "outputs": [
    {
     "data": {
      "text/plain": [
       "-1"
      ]
     },
     "execution_count": 78,
     "metadata": {},
     "output_type": "execute_result"
    }
   ],
   "source": [
    "BinarySearch(arr,1)"
   ]
  },
  {
   "cell_type": "code",
   "execution_count": null,
   "metadata": {},
   "outputs": [],
   "source": []
  }
 ],
 "metadata": {
  "kernelspec": {
   "display_name": "ml",
   "language": "python",
   "name": "python3"
  },
  "language_info": {
   "codemirror_mode": {
    "name": "ipython",
    "version": 3
   },
   "file_extension": ".py",
   "mimetype": "text/x-python",
   "name": "python",
   "nbconvert_exporter": "python",
   "pygments_lexer": "ipython3",
   "version": "3.12.0"
  }
 },
 "nbformat": 4,
 "nbformat_minor": 2
}
