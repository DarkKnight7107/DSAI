{
 "cells": [
  {
   "cell_type": "code",
   "execution_count": 63,
   "metadata": {},
   "outputs": [],
   "source": [
    "num1 = ['1','2','3']\n",
    "num2 = ['4','5','6']"
   ]
  },
  {
   "cell_type": "code",
   "execution_count": 70,
   "metadata": {},
   "outputs": [],
   "source": [
    "def MultiplyNumbers(num1, num2):\n",
    "    num1 = ConvertToIntArr(num1)\n",
    "    num2 = ConvertToIntArr(num2)\n",
    "    num2.reverse()\n",
    "    print(num1)\n",
    "    print(num2)\n",
    "\n",
    "    nums = []\n",
    "    for i in range(len(num2)):\n",
    "        nums.append(MultiplyByDigit(num1,num2[i]))\n",
    "    print(nums)\n",
    "\n",
    "def ConvertToIntArr(num):\n",
    "    num_int = []\n",
    "    for i in num:\n",
    "        num_int.append(ord(i) - ord('0'))\n",
    "    return num_int\n",
    "\n",
    "def MultiplyByDigit(num1, n2):\n",
    "    num1.reverse()\n",
    "    num = []\n",
    "    carry = 0\n",
    "    for i in range(len(num1)):\n",
    "        num.append((num1[i]*n2 + carry)%10)\n",
    "        carry = (num1[i]*n2 + carry)//10\n",
    "    if carry != 0:\n",
    "        num.append(carry)\n",
    "    num.reverse()\n",
    "    return num"
   ]
  },
  {
   "cell_type": "code",
   "execution_count": 71,
   "metadata": {},
   "outputs": [
    {
     "name": "stdout",
     "output_type": "stream",
     "text": [
      "[1, 2, 3]\n",
      "[6, 5, 4]\n",
      "[[7, 3, 8], [1, 6, 0, 5], [4, 9, 2]]\n"
     ]
    }
   ],
   "source": [
    "MultiplyNumbers(num1,num2)"
   ]
  },
  {
   "cell_type": "code",
   "execution_count": 66,
   "metadata": {},
   "outputs": [
    {
     "data": {
      "text/plain": [
       "738"
      ]
     },
     "execution_count": 66,
     "metadata": {},
     "output_type": "execute_result"
    }
   ],
   "source": [
    "123*6"
   ]
  },
  {
   "cell_type": "code",
   "execution_count": 67,
   "metadata": {},
   "outputs": [
    {
     "data": {
      "text/plain": [
       "615"
      ]
     },
     "execution_count": 67,
     "metadata": {},
     "output_type": "execute_result"
    }
   ],
   "source": [
    "123*5"
   ]
  },
  {
   "cell_type": "code",
   "execution_count": 68,
   "metadata": {},
   "outputs": [
    {
     "data": {
      "text/plain": [
       "492"
      ]
     },
     "execution_count": 68,
     "metadata": {},
     "output_type": "execute_result"
    }
   ],
   "source": [
    "123*4"
   ]
  },
  {
   "cell_type": "code",
   "execution_count": 69,
   "metadata": {},
   "outputs": [
    {
     "data": {
      "text/plain": [
       "[6, 1, 5]"
      ]
     },
     "execution_count": 69,
     "metadata": {},
     "output_type": "execute_result"
    }
   ],
   "source": [
    "MultiplyByDigit([1,2,3],5)"
   ]
  },
  {
   "cell_type": "code",
   "execution_count": null,
   "metadata": {},
   "outputs": [],
   "source": []
  }
 ],
 "metadata": {
  "kernelspec": {
   "display_name": "ml",
   "language": "python",
   "name": "python3"
  },
  "language_info": {
   "codemirror_mode": {
    "name": "ipython",
    "version": 3
   },
   "file_extension": ".py",
   "mimetype": "text/x-python",
   "name": "python",
   "nbconvert_exporter": "python",
   "pygments_lexer": "ipython3",
   "version": "3.12.0"
  }
 },
 "nbformat": 4,
 "nbformat_minor": 2
}
