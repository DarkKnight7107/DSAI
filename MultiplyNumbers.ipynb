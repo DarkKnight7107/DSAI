{
 "cells": [
  {
   "cell_type": "code",
   "execution_count": 130,
   "metadata": {},
   "outputs": [
    {
     "name": "stdout",
     "output_type": "stream",
     "text": [
      "492 615 738\n",
      "56088\n"
     ]
    }
   ],
   "source": [
    "num1 = ['1','2','3']\n",
    "num2 = ['4','5','6']\n",
    "print(123*4,123*5,123*6)\n",
    "print(123*456)"
   ]
  },
  {
   "cell_type": "code",
   "execution_count": 151,
   "metadata": {},
   "outputs": [],
   "source": [
    "def MultiplyNumbers(num1, num2):\n",
    "    num1 = ConvertToIntArr(num1)\n",
    "    num2 = ConvertToIntArr(num2)\n",
    "\n",
    "    print(f\"Numbers are {num1} and {num2}\\n\")\n",
    "\n",
    "    num2.reverse()\n",
    "    # print(num1)\n",
    "    # print(num2)\n",
    "\n",
    "    #   Multiplying By Digits\n",
    "    print(\"Multiplying By Digits\")\n",
    "    nums = []\n",
    "    for i in range(len(num2)):\n",
    "        nums.append(MultiplyByDigit(num1,num2[i]))\n",
    "    # print(nums)\n",
    "    print(\"\\nNumbers to be shifted and added are:\\n\")\n",
    "    for i in nums:\n",
    "        print(f\"{i}\")\n",
    "\n",
    "    return ShiftAndAdd(nums)\n",
    "\n",
    "def ConvertToIntArr(num):\n",
    "    num_int = []\n",
    "    for i in num:\n",
    "        num_int.append(ord(i) - ord('0'))\n",
    "    return num_int\n",
    "\n",
    "def MultiplyByDigit(num1, n2):\n",
    "    num1.reverse()\n",
    "    num = []\n",
    "    carry = 0\n",
    "    for i in range(len(num1)):\n",
    "        num.append((num1[i]*n2 + carry)%10)\n",
    "        carry = ((num1[i]*n2 + carry)//10)\n",
    "        print(f\"num1[i] {num1[i]}, n2 {n2}, carry {carry}\")\n",
    "    if carry != 0:\n",
    "        num.append(carry)\n",
    "    num1.reverse()\n",
    "    num.reverse()\n",
    "    print(num)\n",
    "    return num\n",
    "\n",
    "def ShiftAndAdd(nums):\n",
    "    #   Shift\n",
    "    j = 0\n",
    "    for i in nums:\n",
    "        for k in range(j):\n",
    "            i.append(0)\n",
    "        j+=1\n",
    "    print(\"\\nShifted Numbers:\\n\")\n",
    "    for i in nums:\n",
    "        print(i)\n",
    "\n",
    "    for i in nums:\n",
    "        i.reverse()\n",
    "    # print(nums)\n",
    "\n",
    "    #   Add\n",
    "    lenArr = []\n",
    "    for i in nums:\n",
    "        lenArr.append(len(i))\n",
    "    maxInd = max(lenArr)\n",
    "\n",
    "    ans = []\n",
    "    carry = 0\n",
    "    for k in range(maxInd):\n",
    "        sum = 0\n",
    "        for i in nums:\n",
    "            if k >= len(i):\n",
    "                continue\n",
    "            else:\n",
    "                sum = sum + i[k]\n",
    "        ans.append((sum + carry)%10)\n",
    "        carry = (sum + carry)//10\n",
    "    if carry != 0:\n",
    "        ans.append(carry)\n",
    "    ans.reverse()\n",
    "    print(\"\\nAnswer is:\")\n",
    "    print(ans)\n",
    "    return ans\n",
    "\n",
    "    \n"
   ]
  },
  {
   "cell_type": "code",
   "execution_count": 152,
   "metadata": {},
   "outputs": [
    {
     "name": "stdout",
     "output_type": "stream",
     "text": [
      "Numbers are [1, 2, 3] and [4, 5, 6]\n",
      "\n",
      "Multiplying By Digits\n",
      "num1[i] 3, n2 6, carry 1\n",
      "num1[i] 2, n2 6, carry 1\n",
      "num1[i] 1, n2 6, carry 0\n",
      "[7, 3, 8]\n",
      "num1[i] 3, n2 5, carry 1\n",
      "num1[i] 2, n2 5, carry 1\n",
      "num1[i] 1, n2 5, carry 0\n",
      "[6, 1, 5]\n",
      "num1[i] 3, n2 4, carry 1\n",
      "num1[i] 2, n2 4, carry 0\n",
      "num1[i] 1, n2 4, carry 0\n",
      "[4, 9, 2]\n",
      "\n",
      "Numbers to be shifted and added are:\n",
      "\n",
      "[7, 3, 8]\n",
      "[6, 1, 5]\n",
      "[4, 9, 2]\n",
      "\n",
      "Shifted Numbers:\n",
      "\n",
      "[7, 3, 8]\n",
      "[6, 1, 5, 0]\n",
      "[4, 9, 2, 0, 0]\n",
      "\n",
      "Answer is:\n",
      "[5, 6, 0, 8, 8]\n"
     ]
    },
    {
     "data": {
      "text/plain": [
       "[5, 6, 0, 8, 8]"
      ]
     },
     "execution_count": 152,
     "metadata": {},
     "output_type": "execute_result"
    }
   ],
   "source": [
    "MultiplyNumbers(num1,num2)"
   ]
  },
  {
   "cell_type": "code",
   "execution_count": 154,
   "metadata": {},
   "outputs": [
    {
     "name": "stdout",
     "output_type": "stream",
     "text": [
      "Numbers are [1, 1] and [1, 1]\n",
      "\n",
      "Multiplying By Digits\n",
      "num1[i] 1, n2 1, carry 0\n",
      "num1[i] 1, n2 1, carry 0\n",
      "[1, 1]\n",
      "num1[i] 1, n2 1, carry 0\n",
      "num1[i] 1, n2 1, carry 0\n",
      "[1, 1]\n",
      "\n",
      "Numbers to be shifted and added are:\n",
      "\n",
      "[1, 1]\n",
      "[1, 1]\n",
      "\n",
      "Shifted Numbers:\n",
      "\n",
      "[1, 1]\n",
      "[1, 1, 0]\n",
      "\n",
      "Answer is:\n",
      "[1, 2, 1]\n"
     ]
    },
    {
     "data": {
      "text/plain": [
       "[1, 2, 1]"
      ]
     },
     "execution_count": 154,
     "metadata": {},
     "output_type": "execute_result"
    }
   ],
   "source": [
    "MultiplyNumbers(['1','1'],['1','1'])"
   ]
  },
  {
   "cell_type": "code",
   "execution_count": 155,
   "metadata": {},
   "outputs": [
    {
     "name": "stdout",
     "output_type": "stream",
     "text": [
      "Numbers are [9, 9, 9, 9, 9, 9, 9, 9] and [9, 9, 9, 9, 9, 9, 9, 9]\n",
      "\n",
      "Multiplying By Digits\n",
      "num1[i] 9, n2 9, carry 8\n",
      "num1[i] 9, n2 9, carry 8\n",
      "num1[i] 9, n2 9, carry 8\n",
      "num1[i] 9, n2 9, carry 8\n",
      "num1[i] 9, n2 9, carry 8\n",
      "num1[i] 9, n2 9, carry 8\n",
      "num1[i] 9, n2 9, carry 8\n",
      "num1[i] 9, n2 9, carry 8\n",
      "[8, 9, 9, 9, 9, 9, 9, 9, 1]\n",
      "num1[i] 9, n2 9, carry 8\n",
      "num1[i] 9, n2 9, carry 8\n",
      "num1[i] 9, n2 9, carry 8\n",
      "num1[i] 9, n2 9, carry 8\n",
      "num1[i] 9, n2 9, carry 8\n",
      "num1[i] 9, n2 9, carry 8\n",
      "num1[i] 9, n2 9, carry 8\n",
      "num1[i] 9, n2 9, carry 8\n",
      "[8, 9, 9, 9, 9, 9, 9, 9, 1]\n",
      "num1[i] 9, n2 9, carry 8\n",
      "num1[i] 9, n2 9, carry 8\n",
      "num1[i] 9, n2 9, carry 8\n",
      "num1[i] 9, n2 9, carry 8\n",
      "num1[i] 9, n2 9, carry 8\n",
      "num1[i] 9, n2 9, carry 8\n",
      "num1[i] 9, n2 9, carry 8\n",
      "num1[i] 9, n2 9, carry 8\n",
      "[8, 9, 9, 9, 9, 9, 9, 9, 1]\n",
      "num1[i] 9, n2 9, carry 8\n",
      "num1[i] 9, n2 9, carry 8\n",
      "num1[i] 9, n2 9, carry 8\n",
      "num1[i] 9, n2 9, carry 8\n",
      "num1[i] 9, n2 9, carry 8\n",
      "num1[i] 9, n2 9, carry 8\n",
      "num1[i] 9, n2 9, carry 8\n",
      "num1[i] 9, n2 9, carry 8\n",
      "[8, 9, 9, 9, 9, 9, 9, 9, 1]\n",
      "num1[i] 9, n2 9, carry 8\n",
      "num1[i] 9, n2 9, carry 8\n",
      "num1[i] 9, n2 9, carry 8\n",
      "num1[i] 9, n2 9, carry 8\n",
      "num1[i] 9, n2 9, carry 8\n",
      "num1[i] 9, n2 9, carry 8\n",
      "num1[i] 9, n2 9, carry 8\n",
      "num1[i] 9, n2 9, carry 8\n",
      "[8, 9, 9, 9, 9, 9, 9, 9, 1]\n",
      "num1[i] 9, n2 9, carry 8\n",
      "num1[i] 9, n2 9, carry 8\n",
      "num1[i] 9, n2 9, carry 8\n",
      "num1[i] 9, n2 9, carry 8\n",
      "num1[i] 9, n2 9, carry 8\n",
      "num1[i] 9, n2 9, carry 8\n",
      "num1[i] 9, n2 9, carry 8\n",
      "num1[i] 9, n2 9, carry 8\n",
      "[8, 9, 9, 9, 9, 9, 9, 9, 1]\n",
      "num1[i] 9, n2 9, carry 8\n",
      "num1[i] 9, n2 9, carry 8\n",
      "num1[i] 9, n2 9, carry 8\n",
      "num1[i] 9, n2 9, carry 8\n",
      "num1[i] 9, n2 9, carry 8\n",
      "num1[i] 9, n2 9, carry 8\n",
      "num1[i] 9, n2 9, carry 8\n",
      "num1[i] 9, n2 9, carry 8\n",
      "[8, 9, 9, 9, 9, 9, 9, 9, 1]\n",
      "num1[i] 9, n2 9, carry 8\n",
      "num1[i] 9, n2 9, carry 8\n",
      "num1[i] 9, n2 9, carry 8\n",
      "num1[i] 9, n2 9, carry 8\n",
      "num1[i] 9, n2 9, carry 8\n",
      "num1[i] 9, n2 9, carry 8\n",
      "num1[i] 9, n2 9, carry 8\n",
      "num1[i] 9, n2 9, carry 8\n",
      "[8, 9, 9, 9, 9, 9, 9, 9, 1]\n",
      "\n",
      "Numbers to be shifted and added are:\n",
      "\n",
      "[8, 9, 9, 9, 9, 9, 9, 9, 1]\n",
      "[8, 9, 9, 9, 9, 9, 9, 9, 1]\n",
      "[8, 9, 9, 9, 9, 9, 9, 9, 1]\n",
      "[8, 9, 9, 9, 9, 9, 9, 9, 1]\n",
      "[8, 9, 9, 9, 9, 9, 9, 9, 1]\n",
      "[8, 9, 9, 9, 9, 9, 9, 9, 1]\n",
      "[8, 9, 9, 9, 9, 9, 9, 9, 1]\n",
      "[8, 9, 9, 9, 9, 9, 9, 9, 1]\n",
      "\n",
      "Shifted Numbers:\n",
      "\n",
      "[8, 9, 9, 9, 9, 9, 9, 9, 1]\n",
      "[8, 9, 9, 9, 9, 9, 9, 9, 1, 0]\n",
      "[8, 9, 9, 9, 9, 9, 9, 9, 1, 0, 0]\n",
      "[8, 9, 9, 9, 9, 9, 9, 9, 1, 0, 0, 0]\n",
      "[8, 9, 9, 9, 9, 9, 9, 9, 1, 0, 0, 0, 0]\n",
      "[8, 9, 9, 9, 9, 9, 9, 9, 1, 0, 0, 0, 0, 0]\n",
      "[8, 9, 9, 9, 9, 9, 9, 9, 1, 0, 0, 0, 0, 0, 0]\n",
      "[8, 9, 9, 9, 9, 9, 9, 9, 1, 0, 0, 0, 0, 0, 0, 0]\n",
      "\n",
      "Answer is:\n",
      "[9, 9, 9, 9, 9, 9, 9, 8, 0, 0, 0, 0, 0, 0, 0, 1]\n"
     ]
    },
    {
     "data": {
      "text/plain": [
       "[9, 9, 9, 9, 9, 9, 9, 8, 0, 0, 0, 0, 0, 0, 0, 1]"
      ]
     },
     "execution_count": 155,
     "metadata": {},
     "output_type": "execute_result"
    }
   ],
   "source": [
    "MultiplyNumbers(['9','9','9','9','9','9','9','9'],['9','9','9','9','9','9','9','9'])"
   ]
  },
  {
   "cell_type": "code",
   "execution_count": 156,
   "metadata": {},
   "outputs": [
    {
     "data": {
      "text/plain": [
       "9999999800000001"
      ]
     },
     "execution_count": 156,
     "metadata": {},
     "output_type": "execute_result"
    }
   ],
   "source": [
    "99999999*99999999"
   ]
  },
  {
   "cell_type": "code",
   "execution_count": null,
   "metadata": {},
   "outputs": [],
   "source": []
  }
 ],
 "metadata": {
  "kernelspec": {
   "display_name": "ml",
   "language": "python",
   "name": "python3"
  },
  "language_info": {
   "codemirror_mode": {
    "name": "ipython",
    "version": 3
   },
   "file_extension": ".py",
   "mimetype": "text/x-python",
   "name": "python",
   "nbconvert_exporter": "python",
   "pygments_lexer": "ipython3",
   "version": "3.12.0"
  }
 },
 "nbformat": 4,
 "nbformat_minor": 2
}
