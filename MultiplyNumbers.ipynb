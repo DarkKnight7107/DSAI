{
 "cells": [
  {
   "cell_type": "code",
   "execution_count": 97,
   "metadata": {},
   "outputs": [
    {
     "name": "stdout",
     "output_type": "stream",
     "text": [
      "492 615 738\n",
      "56088\n"
     ]
    }
   ],
   "source": [
    "num1 = ['1','2','3']\n",
    "num2 = ['4','5','6']\n",
    "print(123*4,123*5,123*6)\n",
    "print(123*456)"
   ]
  },
  {
   "cell_type": "code",
   "execution_count": 113,
   "metadata": {},
   "outputs": [],
   "source": [
    "def MultiplyNumbers(num1, num2):\n",
    "    num1 = ConvertToIntArr(num1)\n",
    "    num2 = ConvertToIntArr(num2)\n",
    "    num2.reverse()\n",
    "    # print(num1)\n",
    "    # print(num2)\n",
    "\n",
    "    nums = []\n",
    "    for i in range(len(num2)):\n",
    "        nums.append(MultiplyByDigit(num1,num2[i]))\n",
    "    print(nums)\n",
    "    ShiftAndAdd(nums)\n",
    "\n",
    "def ConvertToIntArr(num):\n",
    "    num_int = []\n",
    "    for i in num:\n",
    "        num_int.append(ord(i) - ord('0'))\n",
    "    return num_int\n",
    "\n",
    "def MultiplyByDigit(num1, n2):\n",
    "    num1.reverse()\n",
    "    num = []\n",
    "    carry = 0\n",
    "    for i in range(len(num1)):\n",
    "        num.append((num1[i]*n2 + carry)%10)\n",
    "        carry = ((num1[i]*n2 + carry)//10)\n",
    "        # print(f\"num1[i] {num1[i]}, n2 {n2}, carry {carry}\")\n",
    "    if carry != 0:\n",
    "        num.append(carry)\n",
    "    num1.reverse()\n",
    "    num.reverse()\n",
    "    return num\n",
    "\n",
    "def ShiftAndAdd(nums):\n",
    "    #   Shift\n",
    "    j = 0\n",
    "    for i in nums:\n",
    "        for k in range(j):\n",
    "            i.append(0)\n",
    "        j+=1\n",
    "    print(nums)\n",
    "\n",
    "    #   Add\n",
    "    lenArr = []\n",
    "    for i in nums:\n",
    "        lenArr.append(len(i))\n",
    "    maxInd = max(lenArr)\n",
    "\n",
    "    \n"
   ]
  },
  {
   "cell_type": "code",
   "execution_count": 114,
   "metadata": {},
   "outputs": [
    {
     "name": "stdout",
     "output_type": "stream",
     "text": [
      "[[7, 3, 8], [6, 1, 5], [4, 9, 2]]\n",
      "[[7, 3, 8], [6, 1, 5, 0], [4, 9, 2, 0, 0]]\n",
      "5\n"
     ]
    }
   ],
   "source": [
    "MultiplyNumbers(num1,num2)"
   ]
  },
  {
   "cell_type": "code",
   "execution_count": null,
   "metadata": {},
   "outputs": [],
   "source": []
  }
 ],
 "metadata": {
  "kernelspec": {
   "display_name": "ml",
   "language": "python",
   "name": "python3"
  },
  "language_info": {
   "codemirror_mode": {
    "name": "ipython",
    "version": 3
   },
   "file_extension": ".py",
   "mimetype": "text/x-python",
   "name": "python",
   "nbconvert_exporter": "python",
   "pygments_lexer": "ipython3",
   "version": "3.12.0"
  }
 },
 "nbformat": 4,
 "nbformat_minor": 2
}
