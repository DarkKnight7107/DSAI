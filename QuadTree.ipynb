{
 "cells": [
  {
   "cell_type": "code",
   "execution_count": 10,
   "metadata": {},
   "outputs": [],
   "source": [
    "import matplotlib.pyplot as plt\n",
    "import random\n",
    "import math"
   ]
  },
  {
   "cell_type": "code",
   "execution_count": 13,
   "metadata": {},
   "outputs": [],
   "source": [
    "coords = []\n",
    "x = []\n",
    "y = []\n",
    "for i in range(0, 100):\n",
    "    x.append(random.randint(-256,256))\n",
    "    y.append(random.randint(-256,256))\n",
    "    coords.append(x)\n",
    "    coords.append(y)"
   ]
  },
  {
   "cell_type": "code",
   "execution_count": 14,
   "metadata": {},
   "outputs": [
    {
     "data": {
      "text/plain": [
       "<matplotlib.collections.PathCollection at 0x1d629bf1730>"
      ]
     },
     "execution_count": 14,
     "metadata": {},
     "output_type": "execute_result"
    },
    {
     "data": {
      "image/png": "[encoded data removed]",
      "text/plain": [
       "<Figure size 640x480 with 1 Axes>"
      ]
     },
     "metadata": {},
     "output_type": "display_data"
    }
   ],
   "source": [
    "plt.scatter(x,y)"
   ]
  },
  {
   "cell_type": "code",
   "execution_count": 15,
   "metadata": {},
   "outputs": [],
   "source": [
    "def dist(x1,y1,x2,y2):\n",
    "    return math.sqrt((x1-x2)**2 + (y1-y2)**2)"
   ]
  },
  {
   "cell_type": "code",
   "execution_count": 21,
   "metadata": {},
   "outputs": [],
   "source": [
    "class QuadTree:\n",
    "    def __init__(self,l,r,t,b,level):\n",
    "        self.level = level\n",
    "        self._00_ = None\n",
    "        self._01_ = None\n",
    "        self._10_ = None\n",
    "        self._11_ = None\n",
    "        self.l = l\n",
    "        self.r = r\n",
    "        self.t = t\n",
    "        self.b = b\n",
    "        self.x = (self.l + self.r)/2\n",
    "        self.y = (self.t + self.b)/2\n",
    "\n",
    "    def genQuad(self):\n",
    "        self._00_ = QuadTree(self.l,(self.l+self.r)/2,self.t,(self.t+self.b)/2,self.level+1)\n",
    "        self._01_ = QuadTree((self.l+self.r)/2,self.r,self.t,(self.t+self.b)/2,self.level+1)\n",
    "        self._10_ = QuadTree(self.l,(self.l+self.r)/2,(self.t+self.b)/2,self.b,self.level+1)\n",
    "        self._11_ = QuadTree((self.l+self.r)/2,self.r,(self.t+self.b)/2,self.b,self.level+1)\n",
    "    \n",
    "    def findQuad(self,p,q):\n",
    "        pass\n",
    "\n",
    "    def __repr__(self):\n",
    "        return f\"\\t\\t{self.t}  ^\\t\\t\\n|{self.l}<--\\t({self.x},{self.y})\\t-->{self.r}|\\n\\t\\t{self.b}  v\\t\\t\"\n",
    "    \n",
    "    def _print_(self):\n",
    "        print(self)\n",
    "        if self._00_:\n",
    "            self._00_._print_()\n",
    "        if self._01_:\n",
    "            self._01_._print_()\n",
    "        if self._10_:\n",
    "            self._10_._print_()\n",
    "        if self._11_:\n",
    "            self._11_._print_()"
   ]
  },
  {
   "cell_type": "code",
   "execution_count": 23,
   "metadata": {},
   "outputs": [
    {
     "name": "stdout",
     "output_type": "stream",
     "text": [
      "\t\t256  ^\t\t\n",
      "|-256<--\t(0.0,0.0)\t-->256|\n",
      "\t\t-256  v\t\t\n",
      "\t\t256  ^\t\t\n",
      "|-256<--\t(-128.0,128.0)\t-->0.0|\n",
      "\t\t0.0  v\t\t\n",
      "\t\t256  ^\t\t\n",
      "|0.0<--\t(128.0,128.0)\t-->256|\n",
      "\t\t0.0  v\t\t\n",
      "\t\t0.0  ^\t\t\n",
      "|-256<--\t(-128.0,-128.0)\t-->0.0|\n",
      "\t\t-256  v\t\t\n",
      "\t\t0.0  ^\t\t\n",
      "|0.0<--\t(128.0,-128.0)\t-->256|\n",
      "\t\t-256  v\t\t\n"
     ]
    }
   ],
   "source": [
    "q = QuadTree(-256,256,256,-256)\n",
    "q.genQuad()\n",
    "q._print_()"
   ]
  },
  {
   "cell_type": "code",
   "execution_count": null,
   "metadata": {},
   "outputs": [],
   "source": []
  }
 ],
 "metadata": {
  "kernelspec": {
   "display_name": "ml",
   "language": "python",
   "name": "python3"
  },
  "language_info": {
   "codemirror_mode": {
    "name": "ipython",
    "version": 3
   },
   "file_extension": ".py",
   "mimetype": "text/x-python",
   "name": "python",
   "nbconvert_exporter": "python",
   "pygments_lexer": "ipython3",
   "version": "3.12.0"
  }
 },
 "nbformat": 4,
 "nbformat_minor": 2
}
