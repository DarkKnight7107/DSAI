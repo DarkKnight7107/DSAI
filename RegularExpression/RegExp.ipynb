{
 "cells": [
  {
   "cell_type": "code",
   "execution_count": 44,
   "metadata": {},
   "outputs": [],
   "source": [
    "import re\n",
    "\n",
    "file = open(\"mbox-short.txt\", 'r')\n",
    "email = []\n",
    "ip = []\n",
    "web = []\n",
    "\n",
    "for line in file:\n",
    "    x = re.findall('[a-zA-Z._]+@[a-zA-Z._]+', line)\n",
    "    y = re.findall('[0-9]{1,3}[.][0-9]{1,3}[.][0-9]{1,3}[.][0-9]{1,3}',line)\n",
    "    z = re.findall('http://[a-z0-9A-Z./=?&]+',line)\n",
    "    if len(x) != 0:\n",
    "        email = email + x\n",
    "    if len(y) != 0:\n",
    "        ip = ip + y\n",
    "    if len(z) != 0:\n",
    "        web = web + z"
   ]
  },
  {
   "cell_type": "code",
   "execution_count": 45,
   "metadata": {},
   "outputs": [
    {
     "data": {
      "text/plain": [
       "['http://source.sakaiproject.org/viewsvn/?view=rev&rev=39772',\n",
       " 'http://source.sakaiproject.org/viewsvn/?view=rev&rev=39771',\n",
       " 'http://source.sakaiproject.org/viewsvn/?view=rev&rev=39770',\n",
       " 'http://source.sakaiproject.org/viewsvn/?view=rev&rev=39769',\n",
       " 'http://source.sakaiproject.org/viewsvn/?view=rev&rev=39766',\n",
       " 'http://source.sakaiproject.org/viewsvn/?view=rev&rev=39765',\n",
       " 'http://source.sakaiproject.org/viewsvn/?view=rev&rev=39764',\n",
       " 'http://jira.sakaiproject.org/jira/browse/SAK',\n",
       " 'http://source.sakaiproject.org/viewsvn/?view=rev&rev=39763',\n",
       " 'http://jira.sakaiproject.org/jira/browse/SAK',\n",
       " 'http://source.sakaiproject.org/viewsvn/?view=rev&rev=39762',\n",
       " 'http://bugs.sakaiproject.org/jira/browse/SAK',\n",
       " 'http://source.sakaiproject.org/viewsvn/?view=rev&rev=39761',\n",
       " 'http://bugs.sakaiproject.org/jira/browse/SAK',\n",
       " 'http://source.sakaiproject.org/viewsvn/?view=rev&rev=39760',\n",
       " 'http://source.sakaiproject.org/viewsvn/?view=rev&rev=39759',\n",
       " 'http://bugs.sakaiproject.org/jira/browse/SAK',\n",
       " 'http://source.sakaiproject.org/viewsvn/?view=rev&rev=39758',\n",
       " 'http://bugs.sakaiproject.org/jira/browse/SAK',\n",
       " 'http://source.sakaiproject.org/viewsvn/?view=rev&rev=39757',\n",
       " 'http://source.sakaiproject.org/viewsvn/?view=rev&rev=39756',\n",
       " 'http://source.sakaiproject.org/viewsvn/?view=rev&rev=39755',\n",
       " 'http://source.sakaiproject.org/viewsvn/?view=rev&rev=39754',\n",
       " 'http://source.sakaiproject.org/viewsvn/?view=rev&rev=39753',\n",
       " 'http://source.sakaiproject.org/viewsvn/?view=rev&rev=39752',\n",
       " 'http://source.sakaiproject.org/viewsvn/?view=rev&rev=39751',\n",
       " 'http://source.sakaiproject.org/viewsvn/?view=rev&rev=39750',\n",
       " 'http://source.sakaiproject.org/viewsvn/?view=rev&rev=39749',\n",
       " 'http://source.sakaiproject.org/viewsvn/?view=rev&rev=39746',\n",
       " 'http://source.sakaiproject.org/viewsvn/?view=rev&rev=39745',\n",
       " 'http://source.sakaiproject.org/viewsvn/?view=rev&rev=39744',\n",
       " 'http://source.sakaiproject.org/viewsvn/?view=rev&rev=39743',\n",
       " 'http://jira.sakaiproject.org/jira/browse/SAK',\n",
       " 'http://source.sakaiproject.org/viewsvn/?view=rev&rev=39742',\n",
       " 'http://bugs.sakaiproject.org/jira/browse/SAK']"
      ]
     },
     "execution_count": 45,
     "metadata": {},
     "output_type": "execute_result"
    }
   ],
   "source": [
    "web"
   ]
  },
  {
   "cell_type": "code",
   "execution_count": null,
   "metadata": {},
   "outputs": [],
   "source": []
  }
 ],
 "metadata": {
  "kernelspec": {
   "display_name": "ml",
   "language": "python",
   "name": "python3"
  },
  "language_info": {
   "codemirror_mode": {
    "name": "ipython",
    "version": 3
   },
   "file_extension": ".py",
   "mimetype": "text/x-python",
   "name": "python",
   "nbconvert_exporter": "python",
   "pygments_lexer": "ipython3",
   "version": "3.12.0"
  }
 },
 "nbformat": 4,
 "nbformat_minor": 2
}
