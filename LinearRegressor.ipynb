{
 "cells": [
  {
   "cell_type": "code",
   "execution_count": 332,
   "id": "6f89b938",
   "metadata": {},
   "outputs": [],
   "source": [
    "import numpy as np\n",
    "import matplotlib.pyplot as plt\n",
    "\n",
    "class LinearRegressor:\n",
    "    def __init__(self, learning_rate = 0.01, n_iterations = 1000):\n",
    "        self.learning_rate = learning_rate\n",
    "        self.n_iterations = n_iterations\n",
    "        self.model_parameters = None\n",
    "\n",
    "    def _y_pred_(self, X, params):\n",
    "        ones = np.ones(X.shape[0])\n",
    "        return (np.dot(X,params[:-1]) + np.dot(ones, params[-1])).reshape(-1,1)\n",
    "\n",
    "    def _error_(self, y_p, y):\n",
    "        return (sum((y_p - y)**2))[0]/y.shape[0]\n",
    "\n",
    "    def fit(self, X, y):\n",
    "        delta = 0.000001\n",
    "        num_parameters = X.shape[1] + 1\n",
    "        self.model_parameters = np.random.rand(num_parameters)\n",
    "\n",
    "        gradients = np.zeros(num_parameters)\n",
    "        \n",
    "        for j in range(self.n_iterations):\n",
    "            for i in range(num_parameters):\n",
    "                delta_i = np.zeros(num_parameters)\n",
    "                delta_i[i] += delta\n",
    "                gradients[i] = (self._error_(self._y_pred_(X,self.model_parameters + delta_i), y) - self._error_(self._y_pred_(X, self.model_parameters),y))/delta\n",
    "            \n",
    "            self.model_parameters -= self.learning_rate*gradients\n",
    "            # print(f\"gradients: {gradients}\\nmodel parameters:{self.model_parameters}\\n\")\n",
    "    \n",
    "    def fit_(self, X, y):\n",
    "        delta = 0.00001\n",
    "        num_parameters = X.shape[1] + 1\n",
    "        self.model_parameters = np.random.rand(num_parameters)\n",
    "\n",
    "        gradients = np.zeros(num_parameters)\n",
    "        X_ = np.insert(X,X.shape[1],np.ones(X.shape[0]), axis=1)\n",
    "        delI = delta*np.identity(num_parameters)\n",
    "\n",
    "        for i in range(self.n_iterations):\n",
    "            params = np.zeros_like(delI) + self.model_parameters\n",
    "            grads = delI + self.model_parameters\n",
    "            gradients = (np.mean((np.dot(X_,grads.T) - y)**2, axis=0) - np.mean((np.dot(X_,params.T) - y)**2, axis=0))/delta\n",
    "            self.model_parameters -= self.learning_rate*gradients\n",
    "\n",
    "        print(gradients)\n",
    "        print(self.model_parameters)\n",
    "        # print((np.dot(X_,params.T) - y))\n",
    "\n",
    "        # print((np.dot(X_,grads.T) - y) - (np.dot(X_,params.T) - y))\n",
    "        # print(np.dot(X_,params.T))\n",
    "\n",
    "\n",
    "    def predict(self, X):\n",
    "        ones = np.ones(X.shape[0])\n",
    "        \n",
    "        return (np.dot(X,self.model_parameters[:-1]) + np.dot(ones, self.model_parameters[-1])).reshape(-1,1)\n",
    "\n",
    "    def __repr__(self):\n",
    "        return f\"Model Parameters: {self.model_parameters}\"\n",
    "    "
   ]
  },
  {
   "cell_type": "code",
   "execution_count": 333,
   "id": "8f915344",
   "metadata": {},
   "outputs": [
    {
     "name": "stdout",
     "output_type": "stream",
     "text": [
      "[-1.67889019e-04 -2.75244076e-05 -7.56683409e-04]\n",
      "[4.00421511 4.99403549 3.06650333]\n"
     ]
    },
    {
     "data": {
      "text/plain": [
       "Model Parameters: [4.00421511 4.99403549 3.06650333]"
      ]
     },
     "execution_count": 333,
     "metadata": {},
     "output_type": "execute_result"
    }
   ],
   "source": [
    "np.random.seed(10)\n",
    "lr = LinearRegressor(learning_rate=0.005, n_iterations=1000)\n",
    "\n",
    "m = 7\n",
    "X = 6*np.random.rand(m,2) - 3\n",
    "y = (4*X[:,0] + 5*X[:,1] + 3 + (np.random.rand(m))/10).reshape(-1,1)\n",
    "\n",
    "lr.fit_(X,y)\n",
    "lr\n"
   ]
  },
  {
   "cell_type": "code",
   "execution_count": 275,
   "id": "3ffd99c6",
   "metadata": {},
   "outputs": [],
   "source": [
    "# X1 = np.random.randint(-10,10,(10,2))\n",
    "# X1"
   ]
  },
  {
   "cell_type": "code",
   "execution_count": 260,
   "id": "d282773f",
   "metadata": {},
   "outputs": [
    {
     "data": {
      "text/plain": [
       "Model Parameters: [2.9994577  4.17213032]"
      ]
     },
     "execution_count": 260,
     "metadata": {},
     "output_type": "execute_result"
    }
   ],
   "source": [
    "m = 200\n",
    "X = 10*np.random.rand(m,1) - 5\n",
    "y = 3*X + 5 + 2.5*np.random.randn(m,1)\n",
    "\n",
    "lr1 = LinearRegressor(0.001, 1000)\n",
    "lr1.fit(X,y)\n",
    "lr1\n",
    "\n"
   ]
  },
  {
   "cell_type": "code",
   "execution_count": 261,
   "id": "67067181",
   "metadata": {},
   "outputs": [
    {
     "data": {
      "text/plain": [
       "[<matplotlib.lines.Line2D at 0x2f061266f00>]"
      ]
     },
     "execution_count": 261,
     "metadata": {},
     "output_type": "execute_result"
    },
    {
     "data": {
      "image/png": "[encoded data removed]",
      "text/plain": [
       "<Figure size 640x480 with 1 Axes>"
      ]
     },
     "metadata": {},
     "output_type": "display_data"
    }
   ],
   "source": [
    "plt.scatter(X,y)\n",
    "\n",
    "a = [-5, 5]\n",
    "b = [a[0]*lr1.model_parameters[0] + lr1.model_parameters[1], a[1]*lr1.model_parameters[0] + lr1.model_parameters[1]]\n",
    "plt.plot(a, b, color='r', linewidth=2)"
   ]
  },
  {
   "cell_type": "code",
   "execution_count": 329,
   "id": "a5c411da",
   "metadata": {},
   "outputs": [
    {
     "data": {
      "text/plain": [
       "array([4.6, 4.6, 4. , 4.1, 1. ])"
      ]
     },
     "execution_count": 329,
     "metadata": {},
     "output_type": "execute_result"
    }
   ],
   "source": [
    "X = np.random.randint(2, 9, (10,4))\n",
    "\n",
    "o1 = np.ones(X.shape[0])\n",
    "x = np.insert(X,X.shape[1],o1, axis=1)\n",
    "\n",
    "np.mean(x, axis=0)"
   ]
  },
  {
   "cell_type": "code",
   "execution_count": null,
   "id": "24b9f1c8",
   "metadata": {},
   "outputs": [
    {
     "data": {
      "text/plain": [
       "array([3.4, 4.5, 4. , 5. ])"
      ]
     },
     "execution_count": 318,
     "metadata": {},
     "output_type": "execute_result"
    }
   ],
   "source": []
  },
  {
   "cell_type": "code",
   "execution_count": null,
   "id": "06d18e67",
   "metadata": {},
   "outputs": [],
   "source": []
  }
 ],
 "metadata": {
  "kernelspec": {
   "display_name": "ml",
   "language": "python",
   "name": "python3"
  },
  "language_info": {
   "codemirror_mode": {
    "name": "ipython",
    "version": 3
   },
   "file_extension": ".py",
   "mimetype": "text/x-python",
   "name": "python",
   "nbconvert_exporter": "python",
   "pygments_lexer": "ipython3",
   "version": "3.12.0"
  }
 },
 "nbformat": 4,
 "nbformat_minor": 5
}
