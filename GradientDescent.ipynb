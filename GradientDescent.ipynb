{
 "cells": [
  {
   "cell_type": "code",
   "execution_count": 176,
   "metadata": {},
   "outputs": [],
   "source": [
    "import matplotlib.pyplot as plt\n",
    "coords = [[1,2],[2,3],[3,5]]        #,[5,7],[6,7],[7,9],[9,17]\n",
    "x = []\n",
    "y = []\n",
    "\n",
    "for i in coords: x.append(i[0]), y.append(i[1])"
   ]
  },
  {
   "cell_type": "code",
   "execution_count": 177,
   "metadata": {},
   "outputs": [],
   "source": [
    "class Model:\n",
    "    def __init__(self,crds):\n",
    "        self.coords = crds\n",
    "\n",
    "        self.m = (crds[-1][1] - crds[0][1])/(crds[-1][0] - crds[0][0])                          #(y2 - y1)/(x2 - x1)\n",
    "        self.ml = self.m*1.5\n",
    "        self.mr = self.m*0.5\n",
    "        self.c = (crds[0][1]*crds[-1][0] - crds[-1][1]*crds[0][0])/(crds[-1][0] - crds[0][0])   #(y1*x2 - y2*x1)/(x2 - x1)\n",
    "        self.cl = self.c*1.5\n",
    "        self.cr = self.c*0.5\n",
    "        self.err, self.yp = self._calcErr_(self.m,self.c)\n",
    "    \n",
    "    def __repr__(self):\n",
    "        return f\"m -> {self.m},({self.ml},{self.mr})\\nc -> {self.c},({self.cl},{self.cr})\\ncoords = {self.coords}\\nyp = {self.yp}\\nerror -> {self.err})\\n\"\n",
    "    \n",
    "    def _calcErr_(self,m,c):\n",
    "        yp = []\n",
    "        err = 0\n",
    "        for i in range(len(coords)):\n",
    "            yp.append(m*self.coords[i][0]+c)\n",
    "            err += (yp[i] - self.coords[i][1])**2\n",
    "        \n",
    "        return err, yp\n",
    "    \n",
    "    def _method1_m_(self):\n",
    "        el = self._calcErr_(self.ml,self.c)[0]\n",
    "        er = self._calcErr_(self.mr,self.c)[0]\n",
    "\n",
    "        #print(el, er)\n",
    "\n",
    "        if el > er:\n",
    "            self.ml = (self.ml + self.mr)/2\n",
    "        else:\n",
    "            self.mr = (self.ml + self.mr)/2\n",
    "        \n",
    "        self.m = (self.ml + self.mr)/2\n",
    "\n",
    "    def _method1_c_(self):\n",
    "        el = self._calcErr_(self.m,self.cl)[0]\n",
    "        er = self._calcErr_(self.m,self.cr)[0]\n",
    "\n",
    "        #print(el, er)\n",
    "\n",
    "        if el > er:\n",
    "            self.cl = (self.cl + self.cr)/2\n",
    "        else:\n",
    "            self.cr = (self.cl + self.cr)/2\n",
    "        \n",
    "        self.c = (self.cl + self.cr)/2\n",
    "    \n",
    "\n",
    "    def _plot_(self):\n",
    "        x1 = self.coords[0][0] - 1\n",
    "        x2 = self.coords[-1][0] + 1\n",
    "        y1 = self.m*x1 + self.c\n",
    "        y2 = self.m*x2 + self.c\n",
    "        plt.scatter(x,y)\n",
    "        plt.plot([x1,x2],[y1,y2])\n",
    "\n",
    "    def _method2_m_(self,digit=1):\n",
    "        x = 10**(-1*digit)\n",
    "        e1 = self._calcErr_(self.m,self.c)[0]\n",
    "        e2, y2 = self._calcErr_(self.m*(1+x),self.c)\n",
    "        e3, y3 = self._calcErr_(self.m*(1-x),self.c)\n",
    "\n",
    "        #print(e3, e1, e2)\n",
    "\n",
    "        if e2 < e1:\n",
    "            self.m *= (1+x)\n",
    "            self.err = e2\n",
    "            self.yp = y2\n",
    "        if e3 < e1:\n",
    "            self.m *= (1-x)\n",
    "            self.err = e3\n",
    "            self.yp = y3\n",
    "        \n",
    "        #print(self.m)\n",
    "    \n",
    "    def _method2_c_(self,digit=1):\n",
    "        x = 10**(-1*digit)\n",
    "        e1 = self._calcErr_(self.m,self.c)[0]\n",
    "        e2, y2 = self._calcErr_(self.m,self.c*(1+x))\n",
    "        e3, y3 = self._calcErr_(self.m,self.c*(1-x))\n",
    "\n",
    "        #print(e3, e1, e2)\n",
    "\n",
    "        if e2 < e1:\n",
    "            self.c *= (1+x)\n",
    "            self.err = e2\n",
    "            self.yp = y2\n",
    "        if e3 < e1:\n",
    "            self.c *= (1-x)\n",
    "            self.err = e3\n",
    "            self.yp = y3\n",
    "\n",
    "    def _fit_(self):\n",
    "        for i in range(1,10):\n",
    "            for j in range(0,20):\n",
    "                self._method2_m_(i)\n",
    "                self._method2_c_(i)\n",
    "                # print(\"precision:\",i)\n",
    "                # print(self)\n"
   ]
  },
  {
   "cell_type": "code",
   "execution_count": 178,
   "metadata": {},
   "outputs": [
    {
     "data": {
      "text/plain": [
       "m -> 1.5,(2.25,0.75)\n",
       "c -> 0.5,(0.75,0.25)\n",
       "coords = [[1, 2], [2, 3], [3, 5]]\n",
       "yp = [2.0, 3.5, 5.0]\n",
       "error -> 0.25)"
      ]
     },
     "execution_count": 178,
     "metadata": {},
     "output_type": "execute_result"
    }
   ],
   "source": [
    "model1 = Model(coords)\n",
    "model1"
   ]
  },
  {
   "cell_type": "code",
   "execution_count": 179,
   "metadata": {},
   "outputs": [
    {
     "name": "stdout",
     "output_type": "stream",
     "text": [
      "m -> 1.4414062499999993,(1.44140625,1.4414062499999987)\n",
      "c -> 0.4687500000000002,(0.46875000000000044,0.46875)\n",
      "coords = [[1, 2], [2, 3], [3, 5]]\n",
      "yp = [1.9101562499999996, 3.351562499999999, 4.792968749999998]\n",
      "error -> 0.17453002929687517)\n",
      "\n"
     ]
    }
   ],
   "source": [
    "for i in range(0,50):\n",
    "    model1._method1_c_()\n",
    "    model1._method1_m_()\n",
    "    model1.err, model1.yp = model1._calcErr_(model1.m,model1.c)\n",
    "    model1\n",
    "\n",
    "print(model1)"
   ]
  },
  {
   "cell_type": "code",
   "execution_count": 180,
   "metadata": {},
   "outputs": [
    {
     "data": {
      "text/plain": [
       "m -> 2.499285624876775,(3.75,1.25)\n",
       "c -> 1.3350001989968072,(2.25,0.75)\n",
       "coords = [(1, 4), (2, 6), (3, 9)]\n",
       "yp = [3.834285823873582, 6.333571448750358, 8.832857073627133]\n",
       "error -> 0.1666678574271555)"
      ]
     },
     "execution_count": 180,
     "metadata": {},
     "output_type": "execute_result"
    }
   ],
   "source": [
    "x = [1,2,3]\n",
    "y = [4,6,9]\n",
    "coords1 = list(zip(x,y))\n",
    "\n",
    "# coords1 =  [[1,4],[2,6],[3,9]]\n",
    "\n",
    "model2 = Model(coords1)\n",
    "model2._fit_()\n",
    "model2"
   ]
  },
  {
   "cell_type": "code",
   "execution_count": 181,
   "metadata": {},
   "outputs": [
    {
     "data": {
      "image/png": "[encoded data removed]",
      "text/plain": [
       "<Figure size 640x480 with 1 Axes>"
      ]
     },
     "metadata": {},
     "output_type": "display_data"
    }
   ],
   "source": [
    "model2._plot_()"
   ]
  },
  {
   "cell_type": "code",
   "execution_count": 182,
   "metadata": {},
   "outputs": [],
   "source": [
    "import numpy as np"
   ]
  },
  {
   "cell_type": "code",
   "execution_count": null,
   "metadata": {},
   "outputs": [],
   "source": []
  },
  {
   "cell_type": "code",
   "execution_count": null,
   "metadata": {},
   "outputs": [],
   "source": []
  },
  {
   "cell_type": "code",
   "execution_count": null,
   "metadata": {},
   "outputs": [],
   "source": []
  },
  {
   "cell_type": "code",
   "execution_count": null,
   "metadata": {},
   "outputs": [],
   "source": []
  }
 ],
 "metadata": {
  "kernelspec": {
   "display_name": "ml",
   "language": "python",
   "name": "python3"
  },
  "language_info": {
   "codemirror_mode": {
    "name": "ipython",
    "version": 3
   },
   "file_extension": ".py",
   "mimetype": "text/x-python",
   "name": "python",
   "nbconvert_exporter": "python",
   "pygments_lexer": "ipython3",
   "version": "3.12.0"
  }
 },
 "nbformat": 4,
 "nbformat_minor": 2
}
