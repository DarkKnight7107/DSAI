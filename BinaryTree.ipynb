{
 "cells": [
  {
   "cell_type": "code",
   "execution_count": 92,
   "metadata": {},
   "outputs": [],
   "source": [
    "class Node:\n",
    "    def __init__(self, val):\n",
    "        self.val = val\n",
    "        self.left = None\n",
    "        self.right = None\n",
    "\n",
    "    def insert(self, node):\n",
    "        if node.val < self.val:\n",
    "            if self.left:\n",
    "                self.left.insert(node)\n",
    "            else:\n",
    "                self.left = node\n",
    "        \n",
    "        else:\n",
    "            if self.right:\n",
    "                self.right.insert(node)\n",
    "            else:\n",
    "                self.right = node\n",
    "\n",
    "    def show(self, tab=\"\"):\n",
    "        print(tab, self.val)\n",
    "        if self.left:\n",
    "            self.left.show(tab + \"   \")\n",
    "        if self.right:\n",
    "            self.right.show(tab + \"   \")\n",
    "\n",
    "    def find(self, val):\n",
    "        if self.val == val:\n",
    "            print(\"found!!\")\n",
    "        elif val < self.val:\n",
    "            if self.left:\n",
    "                self.left.find(val)\n",
    "            else:\n",
    "                print(\"Not Found\")\n",
    "        else:\n",
    "            if self.right:\n",
    "                self.right.find(val)\n",
    "            else:\n",
    "                print(\"Not Found\")\n",
    "    \n",
    "    def min(self):\n",
    "        if self.left:\n",
    "            return self.left.min()\n",
    "        else:\n",
    "            return self.val\n",
    "        \n",
    "    def max(self):\n",
    "        if self.right:\n",
    "            return self.right.max()\n",
    "        else:\n",
    "            return self.val"
   ]
  },
  {
   "cell_type": "code",
   "execution_count": 98,
   "metadata": {},
   "outputs": [],
   "source": [
    "class BST:\n",
    "    def __init__(self):\n",
    "        self.root = None\n",
    "    \n",
    "    def insert(self, val):\n",
    "        node = Node(val)\n",
    "        if self.root:\n",
    "            self.root.insert(node)\n",
    "        else:\n",
    "            self.root = node\n",
    "\n",
    "    def show(self):\n",
    "        self.root.show()\n",
    "    \n",
    "    def min(self):\n",
    "        return self.root.min()\n",
    "    \n",
    "    def max(self):\n",
    "        return self.root.max()"
   ]
  },
  {
   "cell_type": "code",
   "execution_count": 99,
   "metadata": {},
   "outputs": [],
   "source": [
    "tree = BST()\n",
    "\n",
    "arr = [10,5,15,2,1,3,7,6,8,13,12,14,17,16,18]\n",
    "for i in arr:\n",
    "    tree.insert(i)"
   ]
  },
  {
   "cell_type": "code",
   "execution_count": 100,
   "metadata": {},
   "outputs": [
    {
     "name": "stdout",
     "output_type": "stream",
     "text": [
      " 10\n",
      "    5\n",
      "       2\n",
      "          1\n",
      "          3\n",
      "       7\n",
      "          6\n",
      "          8\n",
      "    15\n",
      "       13\n",
      "          12\n",
      "          14\n",
      "       17\n",
      "          16\n",
      "          18\n"
     ]
    }
   ],
   "source": [
    "tree.show()"
   ]
  },
  {
   "cell_type": "code",
   "execution_count": 101,
   "metadata": {},
   "outputs": [
    {
     "name": "stdout",
     "output_type": "stream",
     "text": [
      "found!!\n"
     ]
    }
   ],
   "source": [
    "tree.root.find(10)"
   ]
  },
  {
   "cell_type": "code",
   "execution_count": 102,
   "metadata": {},
   "outputs": [
    {
     "name": "stdout",
     "output_type": "stream",
     "text": [
      "1\n"
     ]
    }
   ],
   "source": [
    "print(tree.min())"
   ]
  },
  {
   "cell_type": "code",
   "execution_count": 104,
   "metadata": {},
   "outputs": [
    {
     "name": "stdout",
     "output_type": "stream",
     "text": [
      "18\n"
     ]
    }
   ],
   "source": [
    "print(tree.max())"
   ]
  },
  {
   "cell_type": "code",
   "execution_count": null,
   "metadata": {},
   "outputs": [],
   "source": []
  }
 ],
 "metadata": {
  "kernelspec": {
   "display_name": "ml",
   "language": "python",
   "name": "python3"
  },
  "language_info": {
   "codemirror_mode": {
    "name": "ipython",
    "version": 3
   },
   "file_extension": ".py",
   "mimetype": "text/x-python",
   "name": "python",
   "nbconvert_exporter": "python",
   "pygments_lexer": "ipython3",
   "version": "3.12.0"
  }
 },
 "nbformat": 4,
 "nbformat_minor": 2
}
