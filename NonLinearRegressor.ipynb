{
 "cells": [
  {
   "cell_type": "code",
   "execution_count": 169,
   "id": "cbfce3ff",
   "metadata": {},
   "outputs": [],
   "source": [
    "import numpy as np\n",
    "import matplotlib.pyplot as plt\n",
    "\n",
    "def mse(y1, y2):\n",
    "    return np.mean((y1 - y2)**2, axis=0)\n",
    "\n",
    "class NonLinearRegressor:\n",
    "    def __init__(self, learning_rate = 0.001, n_iterations = 10000, epsilon = 0.01, loss_fn = mse):\n",
    "        self.learning_rate = learning_rate\n",
    "        self.n_iterations = n_iterations\n",
    "        self.epsilon = epsilon\n",
    "        self.loss_fn = loss_fn\n",
    "        self.model_parameters = None\n",
    "\n",
    "    def fit(self, X, y):\n",
    "        delta = 0.00001\n",
    "        num_parameters = X.shape[1] + 1\n",
    "\n",
    "        if self.model_parameters:\n",
    "            pass\n",
    "        else:\n",
    "            self.model_parameters = np.random.rand(num_parameters)\n",
    "\n",
    "        gradients = np.zeros(num_parameters)\n",
    "        eps = np.zeros_like(gradients) + self.epsilon\n",
    "        X_ = np.insert(X,X.shape[1],np.ones(X.shape[0]), axis=1)\n",
    "        delI = delta*np.identity(num_parameters)\n",
    "\n",
    "        for i in range(self.n_iterations):\n",
    "            params = np.zeros_like(delI) + self.model_parameters\n",
    "            grads = delI + self.model_parameters\n",
    "            gradients = (self.loss_fn(X_@grads.T, y) - self.loss_fn(X_@params.T, y))/delta\n",
    "            self.model_parameters -= self.learning_rate*gradients\n",
    "            # print(self.loss_fn(np.dot(X_,params.T), y))\n",
    "            if (np.abs(gradients) < eps).all(0):\n",
    "                break\n",
    "            \n",
    "    def predict(self, X):\n",
    "        X_ = np.insert(X,X.shape[1],np.ones(X.shape[0]), axis=1)\n",
    "        \n",
    "        return (X_@self.model_parameters).reshape(-1,1)\n",
    "\n",
    "    def __repr__(self):\n",
    "        return f\"Model Parameters: {self.model_parameters}\"\n",
    "    "
   ]
  },
  {
   "cell_type": "code",
   "execution_count": 170,
   "id": "385cdc62",
   "metadata": {},
   "outputs": [
    {
     "data": {
      "text/plain": [
       "<matplotlib.collections.PathCollection at 0x220fb6564b0>"
      ]
     },
     "execution_count": 170,
     "metadata": {},
     "output_type": "execute_result"
    },
    {
     "data": {
      "image/png": "[encoded data removed]",
      "text/plain": [
       "<Figure size 640x480 with 1 Axes>"
      ]
     },
     "metadata": {},
     "output_type": "display_data"
    }
   ],
   "source": [
    "num_inst = 30\n",
    "\n",
    "X = np.random.randint(0, 20000, num_inst)\n",
    "y = np.zeros_like(X)\n",
    "for i in range(len(X)):\n",
    "    if X[i] < 10000:\n",
    "        y[i] = 0.1*X[i]\n",
    "    else:\n",
    "        y[i] = 0.3*(X[i] - 10000) + 0.1*10000\n",
    "\n",
    "y = y + 20*np.random.randn(num_inst) - 20*np.random.randn(num_inst)\n",
    "\n",
    "plt.scatter(X,y)"
   ]
  },
  {
   "cell_type": "code",
   "execution_count": 171,
   "id": "f0a4286e",
   "metadata": {},
   "outputs": [
    {
     "data": {
      "text/plain": [
       "array([0.77132064, 0.02075195, 0.63364823, 0.74880388, 0.49850701,\n",
       "       0.22479665, 0.19806286, 0.76053071, 0.16911084, 0.08833981])"
      ]
     },
     "execution_count": 171,
     "metadata": {},
     "output_type": "execute_result"
    }
   ],
   "source": [
    "np.random.seed(10)\n",
    "weights = np.random.rand(10)\n",
    "gradients = np.zeros_like(weights)\n",
    "weights\n"
   ]
  },
  {
   "cell_type": "code",
   "execution_count": 172,
   "id": "045b73bd",
   "metadata": {},
   "outputs": [],
   "source": [
    "X = X.reshape(-1,1)\n",
    "y = y.reshape(-1,1)"
   ]
  },
  {
   "cell_type": "code",
   "execution_count": 179,
   "id": "af29e06a",
   "metadata": {},
   "outputs": [
    {
     "data": {
      "text/plain": [
       "array([9.81701049e+07, 8.35843726e+07, 7.88892174e+06, 1.10464299e+08,\n",
       "       1.46078649e+08, 1.36476401e+06, 2.26625378e+06, 1.53135898e+07,\n",
       "       2.56128541e+06, 7.46366798e+07, 1.02042200e+08, 4.53332397e+07,\n",
       "       9.86375546e+07, 5.52056110e+07, 1.32927423e+07, 1.13032577e+08,\n",
       "       1.28696223e+08, 1.16771029e+08, 3.10839476e+06, 1.63977136e+06,\n",
       "       2.11434564e+07, 1.55369606e+06, 1.64027963e+07, 1.40170671e+06,\n",
       "       1.11126164e+08, 2.11690451e+07, 5.58830084e+07, 1.41211167e+07,\n",
       "       1.52603681e+06, 4.23533978e+07])"
      ]
     },
     "execution_count": 179,
     "metadata": {},
     "output_type": "execute_result"
    }
   ],
   "source": [
    "X_ = np.ones((num_inst, 7))\n",
    "X_[:,0] = X.reshape(-1)\n",
    "X_[:,2] = X.reshape(-1)\n",
    "X_[:,4] = X.reshape(-1)\n",
    "w1 = weights[0:6]\n",
    "w1 = np.append(w1,1)\n",
    "w2 = np.identity(7)*np.array([weights[6], weights[6], weights[7], weights[7], weights[8], weights[8], weights[9]]).reshape(1,-1)\n",
    "\n",
    "w_ = w1.T@w2\n",
    "mse(X_ @ w_, y)"
   ]
  },
  {
   "cell_type": "code",
   "execution_count": null,
   "id": "85904c84",
   "metadata": {},
   "outputs": [],
   "source": []
  }
 ],
 "metadata": {
  "kernelspec": {
   "display_name": "ml",
   "language": "python",
   "name": "python3"
  },
  "language_info": {
   "codemirror_mode": {
    "name": "ipython",
    "version": 3
   },
   "file_extension": ".py",
   "mimetype": "text/x-python",
   "name": "python",
   "nbconvert_exporter": "python",
   "pygments_lexer": "ipython3",
   "version": "3.12.0"
  }
 },
 "nbformat": 4,
 "nbformat_minor": 5
}
