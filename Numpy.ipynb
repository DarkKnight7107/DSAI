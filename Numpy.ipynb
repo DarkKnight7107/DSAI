{
 "cells": [
  {
   "cell_type": "code",
   "execution_count": 3,
   "metadata": {},
   "outputs": [],
   "source": [
    "import numpy as np"
   ]
  },
  {
   "cell_type": "code",
   "execution_count": 4,
   "metadata": {},
   "outputs": [],
   "source": [
    "def cointoss_01():\n",
    "    r = np.random.random()\n",
    "    if r < 0.5:\n",
    "        print(\"Heads\")\n",
    "    else:\n",
    "        print(\"Tails\")\n"
   ]
  },
  {
   "cell_type": "code",
   "execution_count": 5,
   "metadata": {},
   "outputs": [],
   "source": [
    "def cointoss_02():\n",
    "    r = np.random.random()\n",
    "    if r < 0.25:\n",
    "        print(\"Heads\")\n",
    "    else:\n",
    "        print(\"Tails\")\n"
   ]
  },
  {
   "cell_type": "code",
   "execution_count": 6,
   "metadata": {},
   "outputs": [],
   "source": [
    "def cointoss_03(nums):\n",
    "    r = np.random.random()\n",
    "    for i in range(len(nums)):\n",
    "        if r < sum(nums[0:i+1]):\n",
    "            return i"
   ]
  },
  {
   "cell_type": "code",
   "execution_count": 7,
   "metadata": {},
   "outputs": [
    {
     "data": {
      "text/plain": [
       "2"
      ]
     },
     "execution_count": 7,
     "metadata": {},
     "output_type": "execute_result"
    }
   ],
   "source": [
    "nums = [0.1, 0.2, 0.7]\n",
    "cointoss_03(nums)"
   ]
  },
  {
   "cell_type": "code",
   "execution_count": 8,
   "metadata": {},
   "outputs": [
    {
     "name": "stdout",
     "output_type": "stream",
     "text": [
      "{0: 0, 1: 0, 2: 0}\n",
      "{0: 978, 1: 2001, 2: 7021}\n"
     ]
    }
   ],
   "source": [
    "data = {}\n",
    "for i in range(len(nums)):\n",
    "    data[i] = 0\n",
    "\n",
    "\n",
    "print(data)\n",
    "\n",
    "for i in range(0, 10000):\n",
    "    r = cointoss_03(nums)\n",
    "    #print(r)\n",
    "    data[r] += 1\n",
    "\n",
    "print(data)"
   ]
  },
  {
   "cell_type": "code",
   "execution_count": 13,
   "metadata": {},
   "outputs": [],
   "source": [
    "class unconvetionarray:\n",
    "    def __init__(self):\n",
    "        self.arr = []\n",
    "    \n",
    "    def _insertArray(self, array):\n",
    "        self.arr.append(array)\n"
   ]
  },
  {
   "cell_type": "code",
   "execution_count": 15,
   "metadata": {},
   "outputs": [],
   "source": [
    "a = np.array([1,2,3])\n",
    "b = np.array([2,4])"
   ]
  },
  {
   "cell_type": "code",
   "execution_count": 16,
   "metadata": {},
   "outputs": [],
   "source": [
    "ar = unconvetionarray()\n",
    "ar._insertArray(a)\n",
    "ar._insertArray(b)"
   ]
  },
  {
   "cell_type": "code",
   "execution_count": 20,
   "metadata": {},
   "outputs": [
    {
     "data": {
      "text/plain": [
       "[array([1, 2, 3]), array([2, 4])]"
      ]
     },
     "execution_count": 20,
     "metadata": {},
     "output_type": "execute_result"
    }
   ],
   "source": [
    "ar.arr"
   ]
  },
  {
   "cell_type": "code",
   "execution_count": null,
   "metadata": {},
   "outputs": [],
   "source": []
  }
 ],
 "metadata": {
  "kernelspec": {
   "display_name": "ml",
   "language": "python",
   "name": "python3"
  },
  "language_info": {
   "codemirror_mode": {
    "name": "ipython",
    "version": 3
   },
   "file_extension": ".py",
   "mimetype": "text/x-python",
   "name": "python",
   "nbconvert_exporter": "python",
   "pygments_lexer": "ipython3",
   "version": "3.12.0"
  }
 },
 "nbformat": 4,
 "nbformat_minor": 2
}
